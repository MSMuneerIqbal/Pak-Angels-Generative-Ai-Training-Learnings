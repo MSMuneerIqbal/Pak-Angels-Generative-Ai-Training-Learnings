{
 "cells": [
  {
   "cell_type": "code",
   "execution_count": 1,
   "metadata": {},
   "outputs": [
    {
     "name": "stdout",
     "output_type": "stream",
     "text": [
      "Muneer\n",
      "Irshad\n",
      "Ayesha\n",
      "David\n"
     ]
    }
   ],
   "source": [
    "names = [\"Muneer\", \"Irshad\", \"Ayesha\", \"David\"]\n",
    "print(names[0])\n",
    "print(names[1])\n",
    "print(names[2])\n",
    "print(names[3])\n"
   ]
  },
  {
   "cell_type": "code",
   "execution_count": 2,
   "metadata": {},
   "outputs": [
    {
     "name": "stdout",
     "output_type": "stream",
     "text": [
      "Hello, Muneer!\n",
      "Hello, Irshad!\n",
      "Hello, Ayesha!\n",
      "Hello, David!\n"
     ]
    }
   ],
   "source": [
    "names = [\"Muneer\", \"Irshad\", \"Ayesha\", \"David\"]\n",
    "print(f\"Hello, {names[0]}!\")\n",
    "print(f\"Hello, {names[1]}!\")\n",
    "print(f\"Hello, {names[2]}!\")\n",
    "print(f\"Hello, {names[3]}!\")\n"
   ]
  },
  {
   "cell_type": "code",
   "execution_count": 4,
   "metadata": {},
   "outputs": [
    {
     "name": "stdout",
     "output_type": "stream",
     "text": [
      "I would like to own a Honda 125 motorcycle.\n",
      "I would like to drive a Honda City car.\n",
      "I would like to fly a Boeing airplane.\n"
     ]
    }
   ],
   "source": [
    "# Code\n",
    "transportations = [\"Honda 125 motorcycle\", \"Honda City car\", \"Boeing airplane\"]\n",
    "print(f\"I would like to own a {transportations[0]}.\")\n",
    "print(f\"I would like to drive a {transportations[1]}.\")\n",
    "print(f\"I would like to fly a {transportations[2]}.\")\n"
   ]
  },
  {
   "cell_type": "code",
   "execution_count": 6,
   "metadata": {},
   "outputs": [
    {
     "name": "stdout",
     "output_type": "stream",
     "text": [
      "Dear Ahsan, you are invited to dinner.\n",
      "Dear Muneer, you are invited to Lunch.\n",
      "Dear Akber, you are invited to Breakfast.\n"
     ]
    }
   ],
   "source": [
    "guests = [\"Ahsan\", \"Muneer\", \"Akber\"]\n",
    "print(f\"Dear {guests[0]}, you are invited to dinner.\")\n",
    "print(f\"Dear {guests[1]}, you are invited to Lunch.\")\n",
    "print(f\"Dear {guests[2]}, you are invited to Breakfast.\")\n"
   ]
  },
  {
   "cell_type": "code",
   "execution_count": 7,
   "metadata": {},
   "outputs": [
    {
     "name": "stdout",
     "output_type": "stream",
     "text": [
      "Unfortunately, Muneer can't make it.\n",
      "Dear Ahsan, you are still invited to dinner.\n",
      "Dear Hawking, you are invited to dinner.\n",
      "Dear Akber, you are still invited to dinner.\n"
     ]
    }
   ],
   "source": [
    "guests = [\"Ahsan\", \"Muneer\", \"Akber\"]\n",
    "print(f\"Unfortunately, {guests[1]} can't make it.\")\n",
    "guests[1] = \"Hawking\"\n",
    "print(f\"Dear {guests[0]}, you are still invited to dinner.\")\n",
    "print(f\"Dear {guests[1]}, you are invited to dinner.\")\n",
    "print(f\"Dear {guests[2]}, you are still invited to dinner.\")\n"
   ]
  },
  {
   "cell_type": "code",
   "execution_count": 8,
   "metadata": {},
   "outputs": [
    {
     "name": "stdout",
     "output_type": "stream",
     "text": [
      "Good news! I found a bigger table.\n",
      "Dear Curie, you are invited to dinner.\n",
      "Dear Ahsan, you are invited to dinner.\n",
      "Dear Darwin, you are invited to dinner.\n",
      "Dear Muneer, you are invited to dinner.\n",
      "Dear Akber, you are invited to dinner.\n",
      "Dear Galileo, you are invited to dinner.\n"
     ]
    }
   ],
   "source": [
    "guests = [\"Ahsan\", \"Muneer\", \"Akber\"]\n",
    "print(\"Good news! I found a bigger table.\")\n",
    "\n",
    "guests.insert(0, \"Curie\")\n",
    "guests.insert(2, \"Darwin\")\n",
    "guests.append(\"Galileo\")\n",
    "\n",
    "for guest in guests:\n",
    "    print(f\"Dear {guest}, you are invited to dinner.\")\n"
   ]
  },
  {
   "cell_type": "code",
   "execution_count": 9,
   "metadata": {},
   "outputs": [
    {
     "name": "stdout",
     "output_type": "stream",
     "text": [
      "Sorry, I can invite only two people for dinner.\n",
      "Sorry, Galileo, I can't invite you to dinner.\n",
      "Sorry, Akber, I can't invite you to dinner.\n",
      "Sorry, Muneer, I can't invite you to dinner.\n",
      "Sorry, Darwin, I can't invite you to dinner.\n",
      "Dear Curie, you are still invited to dinner.\n",
      "Dear Ahsan, you are still invited to dinner.\n",
      "[]\n"
     ]
    }
   ],
   "source": [
    "# Code\n",
    "print(\"Sorry, I can invite only two people for dinner.\")\n",
    "\n",
    "while len(guests) > 2:\n",
    "    removed_guest = guests.pop()\n",
    "    print(f\"Sorry, {removed_guest}, I can't invite you to dinner.\")\n",
    "\n",
    "for guest in guests:\n",
    "    print(f\"Dear {guest}, you are still invited to dinner.\")\n",
    "\n",
    "del guests[0]\n",
    "del guests[0]\n",
    "\n",
    "print(guests)\n"
   ]
  },
  {
   "cell_type": "code",
   "execution_count": 10,
   "metadata": {},
   "outputs": [
    {
     "name": "stdout",
     "output_type": "stream",
     "text": [
      "['Japan', 'Norway', 'New Zealand', 'Canada', 'Iceland']\n",
      "['Canada', 'Iceland', 'Japan', 'New Zealand', 'Norway']\n",
      "['Japan', 'Norway', 'New Zealand', 'Canada', 'Iceland']\n",
      "['Norway', 'New Zealand', 'Japan', 'Iceland', 'Canada']\n",
      "['Japan', 'Norway', 'New Zealand', 'Canada', 'Iceland']\n",
      "['Iceland', 'Canada', 'New Zealand', 'Norway', 'Japan']\n",
      "['Japan', 'Norway', 'New Zealand', 'Canada', 'Iceland']\n",
      "['Canada', 'Iceland', 'Japan', 'New Zealand', 'Norway']\n",
      "['Norway', 'New Zealand', 'Japan', 'Iceland', 'Canada']\n"
     ]
    }
   ],
   "source": [
    "places = [\"Japan\", \"Norway\", \"New Zealand\", \"Canada\", \"Iceland\"]\n",
    "print(places)\n",
    "\n",
    "print(sorted(places))\n",
    "print(places)\n",
    "\n",
    "print(sorted(places, reverse=True))\n",
    "print(places)\n",
    "\n",
    "places.reverse()\n",
    "print(places)\n",
    "\n",
    "places.reverse()\n",
    "print(places)\n",
    "\n",
    "places.sort()\n",
    "print(places)\n",
    "\n",
    "places.sort(reverse=True)\n",
    "print(places)\n"
   ]
  },
  {
   "cell_type": "code",
   "execution_count": 12,
   "metadata": {},
   "outputs": [
    {
     "name": "stdout",
     "output_type": "stream",
     "text": [
      "['Python', 'Java', 'C++', 'JavaScript', 'Ruby']\n",
      "['Python', 'Java', 'C#', 'C++', 'JavaScript', 'Ruby']\n",
      "['Python', 'C#', 'C++', 'JavaScript', 'Ruby']\n",
      "['Python', 'C#', 'C++', 'JavaScript']\n",
      "Ruby\n",
      "0\n",
      "1\n",
      "['C#', 'C++', 'JavaScript', 'Python']\n",
      "['Python', 'JavaScript', 'C++', 'C#']\n",
      "['Python', 'JavaScript', 'C++', 'C#']\n",
      "[]\n"
     ]
    }
   ],
   "source": [
    "\n",
    "languages = [\"Python\", \"Java\", \"C++\", \"JavaScript\"]\n",
    "\n",
    "languages.append(\"Ruby\")\n",
    "print(languages)\n",
    "\n",
    "languages.insert(2, \"C#\")\n",
    "print(languages)\n",
    "\n",
    "languages.remove(\"Java\")\n",
    "print(languages)\n",
    "\n",
    "popped_language = languages.pop()\n",
    "print(languages)\n",
    "print(popped_language)\n",
    "\n",
    "print(languages.index(\"Python\"))\n",
    "print(languages.count(\"Python\"))\n",
    "\n",
    "languages.sort()\n",
    "print(languages)\n",
    "\n",
    "languages.reverse()\n",
    "print(languages)\n",
    "\n",
    "copy_of_languages = languages.copy()\n",
    "print(copy_of_languages)\n",
    "\n",
    "languages.clear()\n",
    "print(languages)\n"
   ]
  },
  {
   "cell_type": "code",
   "execution_count": 14,
   "metadata": {},
   "outputs": [
    {
     "ename": "IndexError",
     "evalue": "list index out of range",
     "output_type": "error",
     "traceback": [
      "\u001b[1;31m---------------------------------------------------------------------------\u001b[0m",
      "\u001b[1;31mIndexError\u001b[0m                                Traceback (most recent call last)",
      "Cell \u001b[1;32mIn[14], line 5\u001b[0m\n\u001b[0;32m      2\u001b[0m languages \u001b[38;5;241m=\u001b[39m [\u001b[38;5;124m\"\u001b[39m\u001b[38;5;124mPython\u001b[39m\u001b[38;5;124m\"\u001b[39m, \u001b[38;5;124m\"\u001b[39m\u001b[38;5;124mJava\u001b[39m\u001b[38;5;124m\"\u001b[39m, \u001b[38;5;124m\"\u001b[39m\u001b[38;5;124mC++\u001b[39m\u001b[38;5;124m\"\u001b[39m, \u001b[38;5;124m\"\u001b[39m\u001b[38;5;124mJavaScript\u001b[39m\u001b[38;5;124m\"\u001b[39m]\n\u001b[0;32m      4\u001b[0m \u001b[38;5;66;03m# Intentional error\u001b[39;00m\n\u001b[1;32m----> 5\u001b[0m \u001b[38;5;28mprint\u001b[39m(\u001b[43mlanguages\u001b[49m\u001b[43m[\u001b[49m\u001b[38;5;241;43m4\u001b[39;49m\u001b[43m]\u001b[49m)  \u001b[38;5;66;03m# This will raise an IndexError\u001b[39;00m\n\u001b[0;32m      7\u001b[0m \u001b[38;5;66;03m# Corrected version\u001b[39;00m\n\u001b[0;32m      8\u001b[0m \u001b[38;5;28mprint\u001b[39m(languages[\u001b[38;5;241m3\u001b[39m])\n",
      "\u001b[1;31mIndexError\u001b[0m: list index out of range"
     ]
    }
   ],
   "source": [
    "# Code\n",
    "languages = [\"Python\", \"Java\", \"C++\", \"JavaScript\"]\n",
    "\n",
    "# Intentional error\n",
    "print(languages[4])  # This will raise an IndexError\n",
    "\n",
    "# Corrected version\n",
    "print(languages[3])\n"
   ]
  }
 ],
 "metadata": {
  "kernelspec": {
   "display_name": "Python 3",
   "language": "python",
   "name": "python3"
  },
  "language_info": {
   "codemirror_mode": {
    "name": "ipython",
    "version": 3
   },
   "file_extension": ".py",
   "mimetype": "text/x-python",
   "name": "python",
   "nbconvert_exporter": "python",
   "pygments_lexer": "ipython3",
   "version": "3.12.5"
  }
 },
 "nbformat": 4,
 "nbformat_minor": 2
}
